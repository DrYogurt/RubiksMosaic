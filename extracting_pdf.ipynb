{
 "cells": [
  {
   "cell_type": "code",
   "execution_count": 17,
   "metadata": {},
   "outputs": [],
   "source": [
    "import PyPDF2\n",
    "import json"
   ]
  },
  {
   "cell_type": "code",
   "execution_count": 18,
   "metadata": {},
   "outputs": [],
   "source": [
    "\n",
    "# Path to the PDF file\n",
    "pdf_path = 'SiE_Logo.pdf'\n",
    "\n",
    "# Initialize a PDF file reader\n",
    "pdf_reader = PyPDF2.PdfReader(pdf_path)\n",
    "\n",
    "# initialize dictionary to store the text\n",
    "\n",
    "text = {\n",
    "    'A': {1: [], 2: [], 3: [],4:[]},\n",
    "    'B': {1: [], 2: [], 3: [],4:[]},\n",
    "    'C': {1: [], 2: [], 3: [],4:[]},\n",
    "    'D': {1: [], 2: [], 3: [],4:[]},\n",
    "    'E': {1: [], 2: [], 3: [],4:[]},\n",
    "    'F': {1: [], 2: [], 3: [],4:[]},\n",
    "    'G': {1: [], 2: [], 3: [],4:[]},\n",
    "    'H': {1: [], 2: [], 3: [],4:[]},\n",
    "}\n",
    "\n",
    "\n",
    "# Extract text\n",
    "for i in range(1,len(pdf_reader.pages)):\n",
    "    page = pdf_reader.pages[i]\n",
    "    page_text = page.extract_text()\n",
    "    \n",
    "    # remove all white spaces and new lines\n",
    "    page_text = page_text.replace(\"\\n\", \"\")\n",
    "    page_text = page_text.replace(\" \", \"\")\n",
    "    \n",
    "    # first two characters denote the page number\n",
    "    page_number = page_text[:2]\n",
    "    \n",
    "    # the text is made up of 12 3x3 cubes, each cube is 9 characters long\n",
    "    # make an array of 12 cubes\n",
    "    cubes = [page_text[i:i+9] for i in range(2, len(page_text), 9)]\n",
    "    text[page_number[0]][int(page_number[1])] = cubes\n",
    "\n",
    "\n",
    "# save the text to a json file\n",
    "with open('text.json', 'w') as f:\n",
    "    json.dump(text, f, indent=4)"
   ]
  },
  {
   "cell_type": "code",
   "execution_count": null,
   "metadata": {},
   "outputs": [],
   "source": []
  }
 ],
 "metadata": {
  "kernelspec": {
   "display_name": ".rubiksvenv",
   "language": "python",
   "name": "python3"
  },
  "language_info": {
   "codemirror_mode": {
    "name": "ipython",
    "version": 3
   },
   "file_extension": ".py",
   "mimetype": "text/x-python",
   "name": "python",
   "nbconvert_exporter": "python",
   "pygments_lexer": "ipython3",
   "version": "3.11.6"
  }
 },
 "nbformat": 4,
 "nbformat_minor": 2
}
