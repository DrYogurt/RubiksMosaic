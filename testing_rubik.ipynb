{
 "cells": [
  {
   "cell_type": "code",
   "execution_count": null,
   "metadata": {},
   "outputs": [],
   "source": [
    "from rubik.cube import Cube\n",
    "import json"
   ]
  },
  {
   "cell_type": "code",
   "execution_count": null,
   "metadata": {},
   "outputs": [],
   "source": [
    "start_state = Cube(\"WWWWWWWWWGGGRRRBBBOOOGGGRRRBBBOOOGGGRRRBBBOOOYYYYYYYYY\")\n",
    "print(start_state)"
   ]
  },
  {
   "cell_type": "code",
   "execution_count": null,
   "metadata": {},
   "outputs": [],
   "source": [
    "# import text.json\n",
    "with open('text.json') as f:\n",
    "    data = json.load(f)"
   ]
  },
  {
   "cell_type": "code",
   "execution_count": null,
   "metadata": {},
   "outputs": [],
   "source": [
    "from conv_to_rubiks import iddfs\n",
    "\n",
    "solutions = {\n",
    "    'A': {'1': [], '2': [], '3': [], '4': []},\n",
    "    'B': {'1': [], '2': [], '3': [], '4': []},\n",
    "    'C': {'1': [], '2': [], '3': [], '4': []},\n",
    "    'D': {'1': [], '2': [], '3': [], '4': []},\n",
    "    'E': {'1': [], '2': [], '3': [], '4': []},\n",
    "    'F': {'1': [], '2': [], '3': [], '4': []},\n",
    "    'G': {'1': [], '2': [], '3': [], '4': []},\n",
    "    'H': {'1': [], '2': [], '3': [], '4': []},\n",
    "}\n",
    "\n",
    "\n",
    "for r, row in data.items():\n",
    "    for c, col in row.items():\n",
    "        for i, item in enumerate(col):\n",
    "            solved, path = iddfs(start_state=start_state, max_depth=12, face=item)\n",
    "            # rewrite solutions.json with the new solutions\n",
    "            solutions[r][c].append(path)\n",
    "            print(f'{r}{c}{i+1} solved in {len(path)} moves')\n",
    "            with open('solutions.json', 'w') as f:\n",
    "                json.dump(solutions, f)"
   ]
  }
 ],
 "metadata": {
  "kernelspec": {
   "display_name": ".rubiksvenv",
   "language": "python",
   "name": "python3"
  },
  "language_info": {
   "codemirror_mode": {
    "name": "ipython",
    "version": 3
   },
   "file_extension": ".py",
   "mimetype": "text/x-python",
   "name": "python",
   "nbconvert_exporter": "python",
   "pygments_lexer": "ipython3",
   "version": "3.11.6"
  }
 },
 "nbformat": 4,
 "nbformat_minor": 2
}
