{
 "cells": [
  {
   "cell_type": "code",
   "execution_count": 2,
   "metadata": {},
   "outputs": [],
   "source": [
    "from rubik.cube import Cube"
   ]
  },
  {
   "cell_type": "code",
   "execution_count": 9,
   "metadata": {},
   "outputs": [
    {
     "name": "stdout",
     "output_type": "stream",
     "text": [
      "    WWW\n",
      "    WWW\n",
      "    WWW\n",
      "GGG RRR BBB OOO\n",
      "GGG RRR BBB OOO\n",
      "GGG RRR BBB OOO\n",
      "    YYY\n",
      "    YYY\n",
      "    YYY\n",
      "WWWWWWWWWGGGRRRBBBOOOGGGRRRBBBOOOGGGRRRBBBOOOYYYYYYYYY\n"
     ]
    }
   ],
   "source": [
    "c = Cube(\"WWWWWWWWWGGGRRRBBBOOOGGGRRRBBBOOOGGGRRRBBBOOOYYYYYYYYY\")\n",
    "print(c)\n",
    "print(c.flat_str())"
   ]
  },
  {
   "cell_type": "code",
   "execution_count": 10,
   "metadata": {},
   "outputs": [],
   "source": [
    "c_str = c.flat_str()"
   ]
  },
  {
   "cell_type": "code",
   "execution_count": null,
   "metadata": {},
   "outputs": [],
   "source": []
  },
  {
   "cell_type": "code",
   "execution_count": 11,
   "metadata": {},
   "outputs": [
    {
     "name": "stdout",
     "output_type": "stream",
     "text": [
      "('WWWWWWWWW', 'GGGGGGGGG', 'RRRRRRRRR', 'BBBBBBBBB', 'OOOOOOOOO', 'YYYYYYYY')\n",
      "('BWWBWWBWW', 'OOOWGGWGG', 'WGGRRRRRR', 'RRRBBYBBY', 'BBYOOOOOO', 'YYYYYYGG')\n",
      "    BWW\n",
      "    BWW\n",
      "    BWW\n",
      "OOO WGG RRR BBY\n",
      "WGG RRR BBY OOO\n",
      "WGG RRR BBY OOO\n",
      "    YYY\n",
      "    YYY\n",
      "    GGG\n"
     ]
    }
   ],
   "source": [
    "def extract_faces(c):\n",
    "    c_str = c.flat_str()\n",
    "    # Extract the faces from the cube string   \n",
    "    top = c_str[0:9]\n",
    "    left = c_str[9:12] + c_str[21:24] + c_str[33:36]\n",
    "    front =  c_str[12:15] + c_str[24:27] + c_str[36:39]\n",
    "    right = c_str[15:18] + c_str[27:30] + c_str[39:42]\n",
    "    back = c_str[18:21] + c_str[30:33] + c_str[42:45]\n",
    "    bot = c_str[45:-1] \n",
    "    return top, left, front, right, back, bot\n",
    "\n",
    "print(extract_faces(c))\n",
    "c.B()\n",
    "c.Ui()\n",
    "print(extract_faces(c))\n",
    "print(c)"
   ]
  },
  {
   "cell_type": "code",
   "execution_count": 12,
   "metadata": {},
   "outputs": [
    {
     "data": {
      "text/plain": [
       "'YYYROOWGG'"
      ]
     },
     "execution_count": 12,
     "metadata": {},
     "output_type": "execute_result"
    }
   ],
   "source": [
    "def rot_face_str(face_str):\n",
    "    new_order = [\n",
    "        7,4,1,\n",
    "        8,5,2,\n",
    "        9,6,3\n",
    "    ]\n",
    "    new_face = [face_str[i-1] for i in new_order]\n",
    "    return ''.join(new_face)\n",
    "rot_face_str('YOGYOGYRW')"
   ]
  }
 ],
 "metadata": {
  "kernelspec": {
   "display_name": ".rubiksvenv",
   "language": "python",
   "name": "python3"
  },
  "language_info": {
   "codemirror_mode": {
    "name": "ipython",
    "version": 3
   },
   "file_extension": ".py",
   "mimetype": "text/x-python",
   "name": "python",
   "nbconvert_exporter": "python",
   "pygments_lexer": "ipython3",
   "version": "3.11.6"
  }
 },
 "nbformat": 4,
 "nbformat_minor": 2
}
